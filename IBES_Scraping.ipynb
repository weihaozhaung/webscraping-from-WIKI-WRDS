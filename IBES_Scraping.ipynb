{
 "cells": [
  {
   "cell_type": "code",
   "execution_count": 8,
   "metadata": {},
   "outputs": [],
   "source": [
    "from selenium import webdriver\n",
    "from time import sleep"
   ]
  },
  {
   "cell_type": "code",
   "execution_count": 9,
   "metadata": {},
   "outputs": [],
   "source": [
    "driver = webdriver.Chrome()"
   ]
  },
  {
   "cell_type": "code",
   "execution_count": 10,
   "metadata": {},
   "outputs": [],
   "source": [
    "driver.get('https://wrds-www.wharton.upenn.edu/')"
   ]
  },
  {
   "cell_type": "markdown",
   "metadata": {},
   "source": [
    "# Login WRDS"
   ]
  },
  {
   "cell_type": "code",
   "execution_count": 11,
   "metadata": {},
   "outputs": [],
   "source": [
    "driver.find_element_by_id('id_username').clear()\n",
    "driver.find_element_by_id('id_username').send_keys('username')\n",
    "driver.find_element_by_id('id_password').clear()\n",
    "driver.find_element_by_id ('id_password').send_keys('password')\n",
    "driver.find_element_by_xpath('//button[@class=\"btn btn-danger\"]').click()"
   ]
  },
  {
   "cell_type": "markdown",
   "metadata": {},
   "source": [
    "## -->IBES"
   ]
  },
  {
   "cell_type": "code",
   "execution_count": null,
   "metadata": {},
   "outputs": [],
   "source": [
    "driver.find_element_by_xpath('//div[@class=\"col-sm-12 col-md-12\"][2]//div[@class=\"col-md-4 col-lg-4\"][2]//li[4]/a').click()"
   ]
  },
  {
   "cell_type": "markdown",
   "metadata": {},
   "source": [
    "### -->summary history"
   ]
  },
  {
   "cell_type": "code",
   "execution_count": 6,
   "metadata": {},
   "outputs": [],
   "source": [
    "driver.find_element_by_xpath('//div[@class=\"row m-bottom0\"][2]/div[@class=\"col-md-4 col-lg-4\"][1]//li[2]/a').click()"
   ]
  },
  {
   "cell_type": "markdown",
   "metadata": {},
   "source": [
    "### -->summary statistics"
   ]
  },
  {
   "cell_type": "code",
   "execution_count": 7,
   "metadata": {},
   "outputs": [],
   "source": [
    "driver.find_element_by_xpath('//div[@class=\"col-md-4 col-lg-4\"][1]//li[1]/a').click()"
   ]
  },
  {
   "cell_type": "markdown",
   "metadata": {},
   "source": [
    "### -->all stocks in database"
   ]
  },
  {
   "cell_type": "code",
   "execution_count": 8,
   "metadata": {},
   "outputs": [],
   "source": [
    "driver.find_element_by_xpath('//div[@class=\"row form-inline\"][4]/div[@class=\"col-lg-8\"]//input').click()"
   ]
  },
  {
   "cell_type": "markdown",
   "metadata": {},
   "source": [
    "### -->select columns"
   ]
  },
  {
   "cell_type": "code",
   "execution_count": 9,
   "metadata": {},
   "outputs": [],
   "source": [
    "driver.find_element_by_id('select_all_button-80DBA1CF').click()"
   ]
  },
  {
   "cell_type": "markdown",
   "metadata": {},
   "source": [
    "### -->output format"
   ]
  },
  {
   "cell_type": "code",
   "execution_count": 10,
   "metadata": {},
   "outputs": [],
   "source": [
    "driver.find_element_by_id('csv').click()"
   ]
  },
  {
   "cell_type": "markdown",
   "metadata": {},
   "source": [
    "## build date list"
   ]
  },
  {
   "cell_type": "code",
   "execution_count": 11,
   "metadata": {},
   "outputs": [],
   "source": [
    "year = range(1976,2019)\n",
    "year =[str(i) for i in year]\n",
    "month = ['01','07']\n",
    "\n",
    "list1 = []\n",
    "list2 = []\n",
    "for ix in year :\n",
    "    for iy in month :\n",
    "        list1.append( ix + '-' + iy )\n",
    "        list2.append( ix + '-' + str((int(iy)+5)).zfill(2))\n",
    "\n",
    "        \n",
    "datelist = [list1,list2]"
   ]
  },
  {
   "cell_type": "markdown",
   "metadata": {},
   "source": [
    "### --> for loop (change search dates)"
   ]
  },
  {
   "cell_type": "code",
   "execution_count": 14,
   "metadata": {},
   "outputs": [],
   "source": [
    "for i in range(len(datelist[0])):\n",
    "\n",
    "### -->modify end date before begin date, otherwise the begin date won't change\n",
    "    driver.find_element_by_id('select_end_date').clear()    \n",
    "    driver.find_element_by_id('select_end_date').send_keys(datelist[1][i])\n",
    "    driver.find_element_by_id('select_beg_date').clear()\n",
    "    driver.find_element_by_id('select_beg_date').send_keys(datelist[0][i])\n",
    "\n",
    "### -->submit query\n",
    "    driver.find_element_by_id('form_submit').click()\n",
    "\n",
    "### -->switch to new page\n",
    "    driver.switch_to.window(driver.window_handles[1])\n",
    "\n",
    "### -->click until 'csv' is prepared and download\n",
    "    temp=driver.find_element_by_xpath('//p[2]/a')\n",
    "\n",
    "    while not ('.csv' in temp.text):\n",
    "        sleep(5)\n",
    "        temp=driver.find_element_by_xpath('//p[2]/a')\n",
    "    \n",
    "    driver.find_element_by_xpath('//p[2]/a').click()\n",
    "\n",
    "### -->close new page and switch back to original page\n",
    "    driver.close()\n",
    "    driver.switch_to.window(driver.window_handles[0])"
   ]
  },
  {
   "cell_type": "code",
   "execution_count": 13,
   "metadata": {},
   "outputs": [],
   "source": [
    "driver.switch_to.window(driver.window_handles[0])"
   ]
  },
  {
   "cell_type": "code",
   "execution_count": null,
   "metadata": {},
   "outputs": [],
   "source": []
  }
 ],
 "metadata": {
  "kernelspec": {
   "display_name": "Python 3",
   "language": "python",
   "name": "python3"
  },
  "language_info": {
   "codemirror_mode": {
    "name": "ipython",
    "version": 3
   },
   "file_extension": ".py",
   "mimetype": "text/x-python",
   "name": "python",
   "nbconvert_exporter": "python",
   "pygments_lexer": "ipython3",
   "version": "3.7.3"
  }
 },
 "nbformat": 4,
 "nbformat_minor": 2
}
